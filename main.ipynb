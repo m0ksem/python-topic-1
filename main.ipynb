{
 "cells": [
  {
   "cell_type": "code",
   "execution_count": 9,
   "metadata": {},
   "outputs": [
    {
     "name": "stdout",
     "output_type": "stream",
     "text": [
      "[1, 4, 10, 20, 35, 56, 84, 120, 165, 220, 286, 364, 455, 560, 680, 816, 969, 1140, 1330, 1540, 1771, 2024, 2300, 2600, 2925, 3276, 3654, 4060, 4495, 4960, 5456, 5984, 6545, 7140, 7770, 8436, 9139, 9880, 10660, 11480, 12341, 13244, 14190, 15180, 16215, 17296, 18424, 19600, 20825, 22100, 23426, 24804, 26235, 27720, 29260, 30856, 32509, 34220, 35990, 37820, 39711, 41664, 43680, 45760, 47905, 50116, 52394, 54740, 57155, 59640, 62196, 64824, 67525, 70300, 73150, 76076, 79079, 82160, 85320, 88560, 91881, 95284, 98770]\n"
     ]
    }
   ],
   "source": [
    "def tetradic_numbers(limit):\n",
    "  tetradic = []\n",
    "  n = 1\n",
    "  while True:\n",
    "    T_n = n * (n + 1) * (n + 2) // 6\n",
    "    if T_n > limit:\n",
    "      break\n",
    "    tetradic.append(T_n)\n",
    "    n += 1\n",
    "  return tetradic\n",
    "\n",
    "tetradic_list = tetradic_numbers(100000)\n",
    "print(tetradic_list)"
   ]
  },
  {
   "cell_type": "code",
   "execution_count": 18,
   "metadata": {},
   "outputs": [
    {
     "name": "stdout",
     "output_type": "stream",
     "text": [
      "46\n",
      "[18424, 19600, 20825, 22100, 23426]\n",
      "85951\n",
      "False\n"
     ]
    }
   ],
   "source": [
    "def is_tetradic_number(number, tetradic_list):\n",
    "  return number in tetradic_list\n",
    "\n",
    "def get_possible_tetradic_number(number, tetradic_list):\n",
    "  slice_index = 0\n",
    "  while True:\n",
    "    slice = tetradic_list[slice_index:slice_index + 5]\n",
    "    if sum(slice) > number:\n",
    "      return slice_index\n",
    "    slice_index += 1\n",
    "\n",
    "target = 100000\n",
    "slice_index = get_possible_tetradic_number(target, tetradic_list)\n",
    "print(slice_index)\n",
    "print(tetradic_list[slice_index:slice_index + 5])\n",
    "possible_sum1 = (sum(tetradic_list[slice_index + 1:slice_index + 5]))\n",
    "print(possible_sum1)\n",
    "print(is_tetradic_number(target - tetradic_list[slice_index], tetradic_list))"
   ]
  },
  {
   "cell_type": "code",
   "execution_count": 5,
   "metadata": {},
   "outputs": [
    {
     "name": "stdout",
     "output_type": "stream",
     "text": [
      "Число 10 соответствует гипотезе Поллока\n"
     ]
    }
   ],
   "source": [
    "def is_pollocks_hypothesis(number, tetrahedral_list):\n",
    "  # Helper function to check if a number can be expressed as the sum of elements in the list\n",
    "  def can_sum_to(target, numbers):\n",
    "    if target == 0:\n",
    "      return True\n",
    "    if target < 0 or not numbers:\n",
    "      return False\n",
    "    return can_sum_to(target - numbers[0], numbers) or can_sum_to(target, numbers[1:])\n",
    "  \n",
    "  return can_sum_to(number, tetrahedral_list)\n",
    "\n",
    "# Пример использования функции\n",
    "number_to_check = 10\n",
    "result = is_pollocks_hypothesis(number_to_check, tetradic_list)\n",
    "print(f\"Число {number_to_check} {'соответствует' if result else 'не соответствует'} гипотезе Поллока\")"
   ]
  },
  {
   "cell_type": "code",
   "execution_count": null,
   "metadata": {},
   "outputs": [],
   "source": [
    "def is_pollock_hypothesis_works(number_to_check):\n",
    "  "
   ]
  }
 ],
 "metadata": {
  "kernelspec": {
   "display_name": "venv",
   "language": "python",
   "name": "python3"
  },
  "language_info": {
   "codemirror_mode": {
    "name": "ipython",
    "version": 3
   },
   "file_extension": ".py",
   "mimetype": "text/x-python",
   "name": "python",
   "nbconvert_exporter": "python",
   "pygments_lexer": "ipython3",
   "version": "3.13.0"
  }
 },
 "nbformat": 4,
 "nbformat_minor": 2
}
